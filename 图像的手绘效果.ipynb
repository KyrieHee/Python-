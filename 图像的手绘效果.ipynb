{
 "cells": [
  {
   "cell_type": "code",
   "execution_count": 6,
   "metadata": {},
   "outputs": [
    {
     "name": "stdout",
     "output_type": "stream",
     "text": [
      "((412, 618, 3), dtype('uint8'))\n"
     ]
    }
   ],
   "source": [
    "from PIL import Image\n",
    "import numpy as np\n",
    "\n",
    "a = np.array(Image.open(\"/Users/kyriehe/Desktop/1.jpg\"))\n",
    "print(a.shape, a.dtype)\n",
    "b = [255, 255, 255] - a\n",
    "\n",
    "im = Image.fromarray(b.astype('uint8'))\n",
    "im.save(\"/Users/kyriehe/Desktop/2.jpg\")"
   ]
  },
  {
   "cell_type": "code",
   "execution_count": 7,
   "metadata": {
    "collapsed": true
   },
   "outputs": [],
   "source": [
    "from PIL import Image\n",
    "import numpy as np\n",
    "\n",
    "a = np.array(Image.open(\"/Users/kyriehe/Desktop/a.jpg\").convert('L'))\n",
    "b = 255 - a \n",
    "im = Image.fromarray(b.astype('uint8'))\n",
    "im.save(\"/Users/kyriehe/Desktop/a1.jpg\")"
   ]
  },
  {
   "cell_type": "code",
   "execution_count": 8,
   "metadata": {
    "collapsed": true
   },
   "outputs": [],
   "source": [
    "from PIL import Image\n",
    "import numpy as np\n",
    "\n",
    "a = np.array(Image.open(\"/Users/kyriehe/Desktop/a.jpg\").convert('L'))\n",
    "d = 255 * (a/255)**2 \n",
    "im = Image.fromarray(d.astype('uint8'))\n",
    "im.save(\"/Users/kyriehe/Desktop/a2.jpg\")"
   ]
  }
 ],
 "metadata": {
  "kernelspec": {
   "display_name": "Python 2",
   "language": "python",
   "name": "python2"
  },
  "language_info": {
   "codemirror_mode": {
    "name": "ipython",
    "version": 2
   },
   "file_extension": ".py",
   "mimetype": "text/x-python",
   "name": "python",
   "nbconvert_exporter": "python",
   "pygments_lexer": "ipython2",
   "version": "2.7.13"
  }
 },
 "nbformat": 4,
 "nbformat_minor": 2
}
